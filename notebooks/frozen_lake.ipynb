{
 "cells": [
  {
   "cell_type": "markdown",
   "id": "11e0854f",
   "metadata": {},
   "source": [
    "Frozen Lake GYM"
   ]
  },
  {
   "cell_type": "code",
   "execution_count": null,
   "id": "0e40c480",
   "metadata": {},
   "outputs": [],
   "source": []
  }
 ],
 "metadata": {
  "language_info": {
   "name": "python"
  }
 },
 "nbformat": 4,
 "nbformat_minor": 5
}
